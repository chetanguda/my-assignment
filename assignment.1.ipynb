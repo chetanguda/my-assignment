{
 "cells": [
  {
   "cell_type": "code",
   "execution_count": 1,
   "id": "b4905ae2-2320-4275-b2c3-d0daf239008c",
   "metadata": {},
   "outputs": [],
   "source": [
    "#1. Write a code to reverse a string."
   ]
  },
  {
   "cell_type": "code",
   "execution_count": 2,
   "id": "7a63e4db-8ebb-4c2a-ba09-642ee181660b",
   "metadata": {},
   "outputs": [
    {
     "name": "stdout",
     "output_type": "stream",
     "text": [
      "sllikswp\n"
     ]
    }
   ],
   "source": [
    "string = 'pwskills'\n",
    "print(string[::-1])"
   ]
  },
  {
   "cell_type": "code",
   "execution_count": 3,
   "id": "5625861f-93e8-434f-8a51-495bc0a0ecd8",
   "metadata": {},
   "outputs": [],
   "source": [
    "#2. write a code to count the number of vowels in a string"
   ]
  },
  {
   "cell_type": "code",
   "execution_count": 4,
   "id": "adfc0ec5-480d-4c50-8117-2e2a26834cf8",
   "metadata": {},
   "outputs": [
    {
     "name": "stdin",
     "output_type": "stream",
     "text": [
      "enter the text: chetan\n"
     ]
    },
    {
     "name": "stdout",
     "output_type": "stream",
     "text": [
      "2\n"
     ]
    }
   ],
   "source": [
    "text = input('enter the text:')\n",
    "\n",
    "count = 0\n",
    "\n",
    "l = ['a','e','i','o','u']\n",
    "\n",
    "for char in text:\n",
    "    if char in l:\n",
    "        count = count+1\n",
    "print(count)"
   ]
  },
  {
   "cell_type": "code",
   "execution_count": 5,
   "id": "758c2d2b-b3c1-439c-9c5a-1d477681c218",
   "metadata": {},
   "outputs": [],
   "source": [
    "#3. write a code to check if a given string is a palindrome or not."
   ]
  },
  {
   "cell_type": "code",
   "execution_count": 7,
   "id": "562c2049-7ad5-4ba9-bafa-89dd9d0818e4",
   "metadata": {},
   "outputs": [
    {
     "name": "stdin",
     "output_type": "stream",
     "text": [
      "enter string: level\n"
     ]
    },
    {
     "name": "stdout",
     "output_type": "stream",
     "text": [
      "Palindrome\n"
     ]
    }
   ],
   "source": [
    "a = input('enter string:')\n",
    "b=a[-1::-1]\n",
    "if (a==b):\n",
    "    print('Palindrome')\n",
    "else:\n",
    "    print('Nor Palindrome')"
   ]
  },
  {
   "cell_type": "code",
   "execution_count": 8,
   "id": "f18468b9-4f58-4438-95c6-790274123361",
   "metadata": {},
   "outputs": [
    {
     "name": "stdin",
     "output_type": "stream",
     "text": [
      "enter string: list\n"
     ]
    },
    {
     "name": "stdout",
     "output_type": "stream",
     "text": [
      "Nor Palindrome\n"
     ]
    }
   ],
   "source": [
    "a = input('enter string:')\n",
    "b=a[-1::-1]\n",
    "if (a==b):\n",
    "    print('Palindrome')\n",
    "else:\n",
    "    print('Nor Palindrome')"
   ]
  },
  {
   "cell_type": "code",
   "execution_count": 9,
   "id": "3f9a44fa-0d89-4b7d-8ccf-80e5e6573336",
   "metadata": {},
   "outputs": [],
   "source": [
    "#4. write a code to check if two given strings are anagrams of each other."
   ]
  },
  {
   "cell_type": "code",
   "execution_count": 10,
   "id": "f8f0c96f-eef5-4e49-bc83-9c206dd35312",
   "metadata": {},
   "outputs": [],
   "source": [
    "# Both strings should be of equal lenth\n",
    "# Both strings should have same characters in same order of different order this is a anagrams."
   ]
  },
  {
   "cell_type": "code",
   "execution_count": 11,
   "id": "95f9e833-cf6f-4863-ba70-9d6c3867a654",
   "metadata": {},
   "outputs": [
    {
     "name": "stdin",
     "output_type": "stream",
     "text": [
      "enter string1: listen\n",
      "enter string2: silent\n"
     ]
    },
    {
     "name": "stdout",
     "output_type": "stream",
     "text": [
      "strings are anagrams\n"
     ]
    }
   ],
   "source": [
    "str1 = input('enter string1:')\n",
    "str2 = input('enter string2:')\n",
    "\n",
    "if len(str1) != len(str2):\n",
    "    print('not anagrams')\n",
    "else:\n",
    "    if sorted(str1) == sorted(str2):\n",
    "        print('strings are anagrams')\n",
    "    else:\n",
    "        print('not anagrams')"
   ]
  },
  {
   "cell_type": "code",
   "execution_count": 12,
   "id": "0097e486-4d52-4080-b05b-711d236683ef",
   "metadata": {},
   "outputs": [],
   "source": [
    "#5. Write a code to find all occurrences of a given substring within another string"
   ]
  },
  {
   "cell_type": "code",
   "execution_count": 13,
   "id": "ca55046b-0edc-41b2-b92c-2c1ed3b2ab4d",
   "metadata": {},
   "outputs": [
    {
     "name": "stdin",
     "output_type": "stream",
     "text": [
      "enter any string: how are you are\n",
      "enter substring: are\n"
     ]
    },
    {
     "name": "stdout",
     "output_type": "stream",
     "text": [
      "substring found at: 4\n",
      "substring found at: 12\n"
     ]
    }
   ],
   "source": [
    "s1 = input('enter any string:')\n",
    "s2 = input('enter substring:')\n",
    "\n",
    "f = 0\n",
    "for i in range(len(s1)):\n",
    "    for j in range(len(s2)):\n",
    "        if s1[i] == s2[j]:\n",
    "            j = j+1\n",
    "        else:\n",
    "            j = 0\n",
    "    if j==len(s2):\n",
    "        f = 1\n",
    "        print('substring found at:', i-len(s2)+1)\n",
    "if f == 0:\n",
    "    print('not found')"
   ]
  },
  {
   "cell_type": "code",
   "execution_count": 14,
   "id": "05058425-90e3-4eee-9fc9-1d19a36c4a79",
   "metadata": {},
   "outputs": [],
   "source": [
    "#6. Write a code to perform basic string compression using the count of repeated charecter"
   ]
  },
  {
   "cell_type": "code",
   "execution_count": 15,
   "id": "51d23bb6-3ea6-4959-b617-6685c185cc6b",
   "metadata": {},
   "outputs": [
    {
     "name": "stdout",
     "output_type": "stream",
     "text": [
      "a3b2c4d1\n"
     ]
    }
   ],
   "source": [
    "def compress(string):\n",
    "    compressed_string = ''\n",
    "    count = 1\n",
    "    for i in range(1, len(string)):\n",
    "        if string[i] == string[i-1]:\n",
    "            count +=1\n",
    "        else:\n",
    "            compressed_string += string[i-1] + str(count)\n",
    "            count = 1\n",
    "    compressed_string += string[-1] + str(count)\n",
    "    return compressed_string\n",
    "\n",
    "\n",
    "string = 'aaabbccccd'\n",
    "compressed_string = compress(string)\n",
    "print(compressed_string)"
   ]
  },
  {
   "cell_type": "code",
   "execution_count": 16,
   "id": "14324c06-304f-4135-be0e-3d1d37f59f1f",
   "metadata": {},
   "outputs": [],
   "source": [
    "#7. Write a code to determine if a string has unique character"
   ]
  },
  {
   "cell_type": "code",
   "execution_count": 17,
   "id": "ae723192-847b-4967-b4f7-ae28098c4b51",
   "metadata": {},
   "outputs": [
    {
     "name": "stdout",
     "output_type": "stream",
     "text": [
      "True\n",
      "False\n"
     ]
    }
   ],
   "source": [
    "def check_unique_chars(string):\n",
    "    if string is None:\n",
    "        return False\n",
    "    for char in string:\n",
    "        if string.count(char) >1:\n",
    "            return False\n",
    "    return True\n",
    "print(check_unique_chars('cat'))\n",
    "print(check_unique_chars('appele'))"
   ]
  },
  {
   "cell_type": "code",
   "execution_count": 18,
   "id": "99631db0-6971-4598-a84c-c5f89632cf3c",
   "metadata": {},
   "outputs": [],
   "source": [
    "#8. Write a code to conert a given string to uppercase or lowercase"
   ]
  },
  {
   "cell_type": "code",
   "execution_count": 19,
   "id": "1eee8006-6a7f-42cb-b649-0df126885226",
   "metadata": {},
   "outputs": [
    {
     "name": "stdin",
     "output_type": "stream",
     "text": [
      "Enter a String MY NAME IS CHETAN\n"
     ]
    },
    {
     "name": "stdout",
     "output_type": "stream",
     "text": [
      "my name is chetan\n"
     ]
    }
   ],
   "source": [
    "string = input('Enter a String')\n",
    "if (string.isupper()):\n",
    "    print(string.lower())"
   ]
  },
  {
   "cell_type": "code",
   "execution_count": 20,
   "id": "7937d1fe-2f8c-4c80-ac43-572d7970bea0",
   "metadata": {},
   "outputs": [
    {
     "name": "stdin",
     "output_type": "stream",
     "text": [
      "Enter a String my name is chetan\n"
     ]
    },
    {
     "name": "stdout",
     "output_type": "stream",
     "text": [
      "MY NAME IS CHETAN\n"
     ]
    }
   ],
   "source": [
    "string_1 = input('Enter a String')\n",
    "if (string_1.islower()):\n",
    "    print(string_1.upper())"
   ]
  },
  {
   "cell_type": "code",
   "execution_count": 21,
   "id": "efd0b5dd-9acf-48c2-ba5b-9ea00de52e1b",
   "metadata": {},
   "outputs": [],
   "source": [
    "#9. Write a code to count the number of words in a string"
   ]
  },
  {
   "cell_type": "code",
   "execution_count": 22,
   "id": "aa1e5ebf-201d-43b9-9bf4-f3a65baa0f90",
   "metadata": {},
   "outputs": [
    {
     "name": "stdin",
     "output_type": "stream",
     "text": [
      "enter a string: pwskills\n"
     ]
    },
    {
     "name": "stdout",
     "output_type": "stream",
     "text": [
      "8\n"
     ]
    }
   ],
   "source": [
    "str1 = len(input('enter a string:'))\n",
    "print(str1)"
   ]
  },
  {
   "cell_type": "code",
   "execution_count": 23,
   "id": "a0532506-c754-4476-a5e5-0728b9920ce4",
   "metadata": {},
   "outputs": [],
   "source": [
    "#10. Write a code to concatenate two string without using the + operator"
   ]
  },
  {
   "cell_type": "code",
   "execution_count": 24,
   "id": "dd717c8d-e7e0-4d7a-bde9-71137f02028f",
   "metadata": {},
   "outputs": [
    {
     "name": "stdout",
     "output_type": "stream",
     "text": [
      "Hello, world!\n"
     ]
    }
   ],
   "source": [
    "def concatenate_strings(str1, str2):\n",
    "\n",
    "  new_string = \"\"\n",
    "\n",
    "\n",
    "  for char in str1:\n",
    "    new_string += char\n",
    "\n",
    "\n",
    "  for char in str2:\n",
    "    new_string += char\n",
    "\n",
    "\n",
    "  return new_string\n",
    "\n",
    "\n",
    "str1 = \"Hello, \"\n",
    "str2 = \"world!\"\n",
    "\n",
    "concatenated_string = concatenate_strings(str1, str2)\n",
    "\n",
    "print(concatenated_string)"
   ]
  },
  {
   "cell_type": "code",
   "execution_count": 25,
   "id": "b719c6bc-427b-41c1-843e-f4df68d21899",
   "metadata": {},
   "outputs": [],
   "source": [
    "# 11. Write a code remove all occurrences of a specific element from a list."
   ]
  },
  {
   "cell_type": "code",
   "execution_count": 26,
   "id": "dcbf0a65-9fc2-45aa-aa5b-f7175e636256",
   "metadata": {},
   "outputs": [
    {
     "name": "stdout",
     "output_type": "stream",
     "text": [
      "[1, 2, 3, 4, 6, 7, 8, 9, 10]\n"
     ]
    }
   ],
   "source": [
    "def remove_all(list1, item):\n",
    "    while item in list1:\n",
    "        list1.remove(item)\n",
    "\n",
    "list1 = [1,2,3,4,5,6,7,8,9,10]\n",
    "item = 5\n",
    "\n",
    "remove_all(list1, item)\n",
    "\n",
    "print(list1)"
   ]
  },
  {
   "cell_type": "code",
   "execution_count": 27,
   "id": "5cd3753b-f0e6-49e9-8cf7-02a71fff4062",
   "metadata": {},
   "outputs": [],
   "source": [
    "# 12. implement a code to find the second largest number in a given list of integers."
   ]
  },
  {
   "cell_type": "code",
   "execution_count": 1,
   "id": "ae855c2e-c636-480f-bdf0-200b4647a537",
   "metadata": {},
   "outputs": [
    {
     "name": "stdin",
     "output_type": "stream",
     "text": [
      "Enter size of list  5\n",
      "Enter element of list  7\n",
      "Enter element of list  4\n",
      "Enter element of list  9\n",
      "Enter element of list  5\n",
      "Enter element of list  1\n"
     ]
    },
    {
     "name": "stdout",
     "output_type": "stream",
     "text": [
      "second largest in  [7, 4, 9, 5, 1] is\n",
      "7\n"
     ]
    }
   ],
   "source": [
    "def second_largest(list):\n",
    "    list.sort()\n",
    "    return list[-2]\n",
    "\n",
    "li=[]\n",
    "n=int(input(\"Enter size of list \"))\n",
    "for i in range(0,n):\n",
    "    e=int(input(\"Enter element of list \"))\n",
    "    li.append(e)\n",
    "\n",
    "print(\"second largest in \",li,\"is\")\n",
    "print(second_largest(li))"
   ]
  },
  {
   "cell_type": "code",
   "execution_count": 2,
   "id": "84411cdf-a176-49ec-8376-efb2721b37fa",
   "metadata": {},
   "outputs": [],
   "source": [
    "# 13. Creat a code to count the occurrences of each element in a list and return a dictonary with elements as key and their counts as values."
   ]
  },
  {
   "cell_type": "code",
   "execution_count": 3,
   "id": "73a69df9-b4ac-44b4-8ace-92eb71ca089b",
   "metadata": {},
   "outputs": [
    {
     "name": "stdout",
     "output_type": "stream",
     "text": [
      "{1: 3, 2: 4, 3: 2, 4: 2, 5: 1}\n"
     ]
    }
   ],
   "source": [
    "def count_occurrences(list1):\n",
    "    dict1 = {}\n",
    "\n",
    "    for element in list1:\n",
    "        if element in dict1:\n",
    "            dict1[element] += 1\n",
    "        else:\n",
    "            dict1[element] = 1\n",
    "    return dict1\n",
    "\n",
    "list1 = [1, 2, 3, 1, 2, 1, 3, 4, 5, 4, 2, 2]\n",
    "result = count_occurrences(list1)\n",
    "\n",
    "print(result)"
   ]
  },
  {
   "cell_type": "code",
   "execution_count": 4,
   "id": "a48388d7-e805-48a2-8c23-a4daa9f5dd3e",
   "metadata": {},
   "outputs": [],
   "source": [
    "# 14. write a code reverse a list in-place without using any built-in reverse function"
   ]
  },
  {
   "cell_type": "code",
   "execution_count": 5,
   "id": "8b67142a-ef73-4c58-9362-4878e29ee397",
   "metadata": {},
   "outputs": [
    {
     "name": "stdout",
     "output_type": "stream",
     "text": [
      "[5, 4, 3, 2, 1]\n"
     ]
    }
   ],
   "source": [
    "def reverse(list1):\n",
    "    start = 0\n",
    "    end = len(list1) - 1\n",
    "    while start < end:\n",
    "        list1[start], list1[end] = list1[end], list1[start]\n",
    "        start += 1\n",
    "        end -= 1\n",
    "\n",
    "\n",
    "# Driver code\n",
    "list1 = [1, 2, 3, 4, 5]\n",
    "reverse(list1)\n",
    "print(list1)"
   ]
  },
  {
   "cell_type": "code",
   "execution_count": 6,
   "id": "a21d982e-9cb6-4c73-ac08-22cf19846cd6",
   "metadata": {},
   "outputs": [],
   "source": [
    "# 15. Implement a code to find and remove duplicates from a list while preserving the original order of elements."
   ]
  },
  {
   "cell_type": "code",
   "execution_count": 7,
   "id": "a527baf4-16ed-4bfc-a09a-adfaba4f5e3a",
   "metadata": {},
   "outputs": [
    {
     "name": "stdout",
     "output_type": "stream",
     "text": [
      "[1, 2, 3, 4, 5]\n"
     ]
    }
   ],
   "source": [
    "def remove_duplicates(list1):\n",
    "\n",
    "    list2 = []\n",
    "\n",
    "    for x in list1:\n",
    "        if x not in list2:\n",
    "            list2.append(x)\n",
    "    return list2\n",
    "\n",
    "list1 = [1, 2, 3, 4, 5, 1, 2, 3]\n",
    "print(remove_duplicates(list1))"
   ]
  },
  {
   "cell_type": "code",
   "execution_count": 8,
   "id": "9be52069-a29f-412e-bf87-9559531a936a",
   "metadata": {},
   "outputs": [],
   "source": [
    "# 16. Creat a code to check if a given list is sorted (either in ascending or descending order) or not"
   ]
  },
  {
   "cell_type": "code",
   "execution_count": 9,
   "id": "4fecc7e5-138f-4968-baf1-142eab07e5ff",
   "metadata": {},
   "outputs": [
    {
     "name": "stdout",
     "output_type": "stream",
     "text": [
      "True\n",
      "True\n",
      "False\n",
      "True\n"
     ]
    }
   ],
   "source": [
    "def is_sorted(lst):\n",
    "\n",
    "    if len(lst) <= 1:\n",
    "        return True\n",
    "\n",
    "    asc = True\n",
    "    for i in range(1, len(lst)):\n",
    "        if lst[i] < lst[i - 1]:\n",
    "            asc = False\n",
    "            break\n",
    "\n",
    "    desc = True\n",
    "    for i in range(1, len(lst)):\n",
    "        if lst[i] > lst[i - 1]:\n",
    "            desc = False\n",
    "            break\n",
    "\n",
    "    return asc or desc\n",
    "\n",
    "\n",
    "# Test the function.\n",
    "print(is_sorted([1, 2, 3]))\n",
    "print(is_sorted([3, 2, 1]))\n",
    "print(is_sorted([1, 2, 3, 2, 1]))\n",
    "print(is_sorted([1, 1, 1]))"
   ]
  },
  {
   "cell_type": "code",
   "execution_count": 10,
   "id": "cf476ed7-8ccb-49eb-ba8f-8801b3b879e0",
   "metadata": {},
   "outputs": [],
   "source": [
    "# 17. Write a code to marge two sorted lists into a single sorted list."
   ]
  },
  {
   "cell_type": "code",
   "execution_count": 11,
   "id": "00c3a304-6b18-44c6-bb8a-332b10d7b3a2",
   "metadata": {},
   "outputs": [
    {
     "name": "stdout",
     "output_type": "stream",
     "text": [
      "[1, 2, 3, 4, 5, 6, 7, 8, 9, 10]\n"
     ]
    }
   ],
   "source": [
    "def merge_sorted_lists(list1, list2):\n",
    "\n",
    "  merged_list = []\n",
    "  i = 0\n",
    "  j = 0\n",
    "  while i < len(list1) and j < len(list2):\n",
    "    if list1[i] < list2[j]:\n",
    "      merged_list.append(list1[i])\n",
    "      i += 1\n",
    "    else:\n",
    "      merged_list.append(list2[j])\n",
    "      j += 1\n",
    "\n",
    "  while i < len(list1):\n",
    "    merged_list.append(list1[i])\n",
    "    i += 1\n",
    "\n",
    "  while j < len(list2):\n",
    "    merged_list.append(list2[j])\n",
    "    j += 1\n",
    "\n",
    "  return merged_list\n",
    "\n",
    "\n",
    "list1 = [1, 3, 5, 7, 9]\n",
    "list2 = [2, 4, 6, 8, 10]\n",
    "\n",
    "merged_list = merge_sorted_lists(list1, list2)\n",
    "\n",
    "print(merged_list)"
   ]
  },
  {
   "cell_type": "code",
   "execution_count": 12,
   "id": "ca9c576d-4758-4eb8-bbbf-41b4bf9c806f",
   "metadata": {},
   "outputs": [],
   "source": [
    "# 18. Implement a code to find the intersation of two given lists."
   ]
  },
  {
   "cell_type": "code",
   "execution_count": 13,
   "id": "53a121ca-2b58-4e28-9517-d384e30328aa",
   "metadata": {},
   "outputs": [
    {
     "name": "stdout",
     "output_type": "stream",
     "text": [
      "[['a', 'c'], ['d', 'e']]\n"
     ]
    }
   ],
   "source": [
    "def intersection(lst1, lst2):\n",
    "\n",
    "\treturn [item for item in lst1 if item in lst2]\n",
    "\n",
    "lst1 = [['a', 'c'], ['d', 'e']]\n",
    "lst2 = [['a', 'c'], ['e', 'f'], ['d', 'e']]\n",
    "print(intersection(lst1, lst2))"
   ]
  },
  {
   "cell_type": "code",
   "execution_count": 14,
   "id": "ab933957-1ce2-479b-8d52-07d5c79b6a61",
   "metadata": {},
   "outputs": [],
   "source": [
    "#19. Creat a code to find the union of two lists without duplicates."
   ]
  },
  {
   "cell_type": "code",
   "execution_count": 15,
   "id": "7cf4c3c5-9dd9-426e-9bf1-1f39385ee7b3",
   "metadata": {},
   "outputs": [
    {
     "name": "stdout",
     "output_type": "stream",
     "text": [
      "[1, 2, 3, 4, 5, 6, 7]\n"
     ]
    }
   ],
   "source": [
    "list1 = [1, 2, 3, 4, 5]\n",
    "list2 = [3, 4, 5, 6, 7]\n",
    "\n",
    "set1 = set(list1)\n",
    "set2 = set(list2)\n",
    "\n",
    "union_set = set1.union(set2)\n",
    "\n",
    "union_list = list(union_set)\n",
    "\n",
    "print(union_list)"
   ]
  },
  {
   "cell_type": "code",
   "execution_count": 16,
   "id": "5f4709b0-a26f-47fc-a82b-7add34ddb7eb",
   "metadata": {},
   "outputs": [],
   "source": [
    "# 20. Write a code to shuffle a given list randomly without using any built in-shuffle functions."
   ]
  },
  {
   "cell_type": "code",
   "execution_count": 17,
   "id": "b27ff5ba-7272-4125-9b7f-106cb0115b0e",
   "metadata": {},
   "outputs": [
    {
     "name": "stdout",
     "output_type": "stream",
     "text": [
      "[6, 1, 2, 9, 5, 7, 3, 4, 10, 8]\n"
     ]
    }
   ],
   "source": [
    "import random\n",
    "\n",
    "numbers = [1,2,3,4,5,6,7,8,9,10]\n",
    "\n",
    "numbers2 = numbers[:]\n",
    "\n",
    "random.shuffle(numbers2)\n",
    "\n",
    "print(numbers2)"
   ]
  },
  {
   "cell_type": "code",
   "execution_count": 18,
   "id": "4f0591f2-bf9d-401f-8d09-946b65907052",
   "metadata": {},
   "outputs": [],
   "source": [
    "# 21. Write a code that takes two tuples as input as return a new tuple containing elements that are common to both input tuples"
   ]
  },
  {
   "cell_type": "code",
   "execution_count": 19,
   "id": "0bd9edf3-ada6-43cb-9d1d-a25774132aeb",
   "metadata": {},
   "outputs": [
    {
     "name": "stdout",
     "output_type": "stream",
     "text": [
      "(3, 4, 5)\n"
     ]
    }
   ],
   "source": [
    "def common_elements(tuple1, tuple2):\n",
    "\n",
    " set1 = set(tuple1)\n",
    " set2 = set(tuple2)\n",
    "\n",
    " common_elements = set1.intersection(set2)\n",
    "\n",
    " return tuple(common_elements)\n",
    "\n",
    "\n",
    "tuple1 = (1, 2, 3, 4, 5)\n",
    "tuple2 = (3, 4, 5, 6, 7)\n",
    "\n",
    "common_elements = common_elements(tuple1, tuple2)\n",
    "\n",
    "print(common_elements)"
   ]
  },
  {
   "cell_type": "code",
   "execution_count": 20,
   "id": "dfe204ef-807e-4f87-902c-6eb537dc115f",
   "metadata": {},
   "outputs": [],
   "source": [
    "# 22. Creat a code that prompts the user to enter two sets of integers saparated by commas. Then, print the intersetion of these two sets"
   ]
  },
  {
   "cell_type": "code",
   "execution_count": 21,
   "id": "0fb9056f-2f59-412e-b9d9-408b1b94704e",
   "metadata": {},
   "outputs": [
    {
     "name": "stdout",
     "output_type": "stream",
     "text": [
      "{2, 3}\n"
     ]
    }
   ],
   "source": [
    "s1 = {1, 2, 3}\n",
    "s2 = {2, 3}\n",
    "print(s1.intersection(s2))"
   ]
  },
  {
   "cell_type": "code",
   "execution_count": 22,
   "id": "5ab82116-2ac0-447d-b62f-428ff4ff9807",
   "metadata": {},
   "outputs": [],
   "source": [
    "# 23. Write a code to concatenate two tuples. The function slould take two tuples as input and return a new tuple containing elements from both input tuples."
   ]
  },
  {
   "cell_type": "code",
   "execution_count": 23,
   "id": "d62e1c99-726d-48d0-be8c-0d77a50d9177",
   "metadata": {},
   "outputs": [
    {
     "name": "stdout",
     "output_type": "stream",
     "text": [
      "(1, 2, 3, 4, 5, 6)\n"
     ]
    }
   ],
   "source": [
    "def concatenate_tuples(tup1, tup2):\n",
    "    return tup1 + tup2\n",
    "\n",
    "tuple1 = (1, 2, 3)\n",
    "tuple2 = (4, 5, 6)\n",
    "\n",
    "result = concatenate_tuples(tuple1, tuple2)\n",
    "\n",
    "print(result)"
   ]
  },
  {
   "cell_type": "code",
   "execution_count": 24,
   "id": "ffe20c28-f955-4412-940e-93afd421dd17",
   "metadata": {},
   "outputs": [],
   "source": [
    "#24. Devlop a code that prompts the user to input two sets of strings. Then, print the elements that are present in the first set but not in the second list."
   ]
  },
  {
   "cell_type": "code",
   "execution_count": 25,
   "id": "837a8ce2-d7ed-49a6-8c2e-84af35fb8595",
   "metadata": {},
   "outputs": [
    {
     "name": "stdin",
     "output_type": "stream",
     "text": [
      "Enter the first set of strings, separated by commas:  apple, orange, banana\n",
      "Enter the second set of strings, separated by commas:  banana, mango\n"
     ]
    },
    {
     "name": "stdout",
     "output_type": "stream",
     "text": [
      "The following elements are present in the first set but not in the second list:\n",
      " orange\n",
      " banana\n",
      "apple\n"
     ]
    }
   ],
   "source": [
    "set1 = set(input(\"Enter the first set of strings, separated by commas: \").split(\",\"))\n",
    "set2 = set(input(\"Enter the second set of strings, separated by commas: \").split(\",\"))\n",
    "\n",
    "difference = set1 - set2\n",
    "\n",
    "print(\"The following elements are present in the first set but not in the second list:\")\n",
    "for element in difference:\n",
    "    print(element)"
   ]
  },
  {
   "cell_type": "code",
   "execution_count": 26,
   "id": "4d181d3c-d3bb-4ec9-9f99-cf4f2d7ee4d7",
   "metadata": {},
   "outputs": [],
   "source": [
    "#25. Creat a code that takes a tuple and two integers as input. The function should return a new tuple containing elements from the original tuple within the specified range of"
   ]
  },
  {
   "cell_type": "code",
   "execution_count": 27,
   "id": "c4d8e0ca-5372-490c-b354-178bb68b94dc",
   "metadata": {},
   "outputs": [
    {
     "name": "stdout",
     "output_type": "stream",
     "text": [
      "(3, 4, 5, 6)\n"
     ]
    }
   ],
   "source": [
    "def get_range_tuple(tuple1, start, end):\n",
    "\n",
    "  if start < 0 or end > len(tuple1):\n",
    "    raise ValueError(\"Invalid start or end index.\")\n",
    "\n",
    "  return tuple1[start:end]\n",
    "\n",
    "tuple1 = (1, 2, 3, 4, 5, 6, 7, 8, 9, 10)\n",
    "start =2\n",
    "end = 6\n",
    "\n",
    "new_tuple = get_range_tuple(tuple1, start, end)\n",
    "\n",
    "print(new_tuple)"
   ]
  },
  {
   "cell_type": "code",
   "execution_count": 28,
   "id": "808f2d28-a111-4c52-9323-40cd6b57e669",
   "metadata": {},
   "outputs": [],
   "source": [
    "# 26. Write a code that prompts the user to input two sets of characters. Then, print the union of these two sets."
   ]
  },
  {
   "cell_type": "code",
   "execution_count": 29,
   "id": "2431485d-7f56-4b96-bd89-fbe1dc754f41",
   "metadata": {},
   "outputs": [
    {
     "name": "stdin",
     "output_type": "stream",
     "text": [
      "Enter the first set of characters:  abc\n",
      "Enter the second set of characters:  def\n"
     ]
    },
    {
     "name": "stdout",
     "output_type": "stream",
     "text": [
      "The union of the two sets is: {'c', 'd', 'e', 'b', 'a', 'f'}\n"
     ]
    }
   ],
   "source": [
    "def main():\n",
    "  set1 = input(\"Enter the first set of characters: \")\n",
    "  set2 = input(\"Enter the second set of characters: \")\n",
    "\n",
    "  set1 = set(set1)\n",
    "  set2 = set(set2)\n",
    "\n",
    "  union = set1.union(set2)\n",
    "\n",
    "  print(\"The union of the two sets is:\", union)\n",
    "\n",
    "if __name__ == \"__main__\":\n",
    "  main()"
   ]
  },
  {
   "cell_type": "code",
   "execution_count": 30,
   "id": "a24a13a2-676a-4eb4-aac3-9e42a85c6fc0",
   "metadata": {},
   "outputs": [],
   "source": [
    "#27. Devlop a code that takes a tuple of integers as input. The function should return the maximun and minimum value from the tuple using tuple unpacking."
   ]
  },
  {
   "cell_type": "code",
   "execution_count": 31,
   "id": "6ce0675e-02d7-41c9-9e27-432d75dd7146",
   "metadata": {},
   "outputs": [
    {
     "ename": "ValueError",
     "evalue": "too many values to unpack (expected 5)",
     "output_type": "error",
     "traceback": [
      "\u001b[0;31m---------------------------------------------------------------------------\u001b[0m",
      "\u001b[0;31mValueError\u001b[0m                                Traceback (most recent call last)",
      "Cell \u001b[0;32mIn[31], line 27\u001b[0m\n\u001b[1;32m     23\u001b[0m \u001b[38;5;66;03m# Test the function.\u001b[39;00m\n\u001b[1;32m     25\u001b[0m test_tup \u001b[38;5;241m=\u001b[39m (\u001b[38;5;241m5\u001b[39m, \u001b[38;5;241m20\u001b[39m, \u001b[38;5;241m3\u001b[39m, \u001b[38;5;241m7\u001b[39m, \u001b[38;5;241m6\u001b[39m, \u001b[38;5;241m8\u001b[39m)\n\u001b[0;32m---> 27\u001b[0m max_val, min_val \u001b[38;5;241m=\u001b[39m \u001b[43mfind_max_min\u001b[49m\u001b[43m(\u001b[49m\u001b[43mtest_tup\u001b[49m\u001b[43m)\u001b[49m\n\u001b[1;32m     31\u001b[0m \u001b[38;5;28mprint\u001b[39m(\u001b[38;5;124m\"\u001b[39m\u001b[38;5;124mThe maximum value is:\u001b[39m\u001b[38;5;124m\"\u001b[39m, max_val)\n\u001b[1;32m     33\u001b[0m \u001b[38;5;28mprint\u001b[39m(\u001b[38;5;124m\"\u001b[39m\u001b[38;5;124mThe minimum value is:\u001b[39m\u001b[38;5;124m\"\u001b[39m, min_val)\n",
      "Cell \u001b[0;32mIn[31], line 3\u001b[0m, in \u001b[0;36mfind_max_min\u001b[0;34m(test_tup)\u001b[0m\n\u001b[1;32m      1\u001b[0m \u001b[38;5;28;01mdef\u001b[39;00m \u001b[38;5;21mfind_max_min\u001b[39m(test_tup):\n\u001b[0;32m----> 3\u001b[0m   a, b, c, d, e \u001b[38;5;241m=\u001b[39m test_tup\n\u001b[1;32m      7\u001b[0m   \u001b[38;5;66;03m# Find the maximum and minimum values.\u001b[39;00m\n\u001b[1;32m      9\u001b[0m   max_val \u001b[38;5;241m=\u001b[39m \u001b[38;5;28mmax\u001b[39m(a, b, c, d, e)\n",
      "\u001b[0;31mValueError\u001b[0m: too many values to unpack (expected 5)"
     ]
    }
   ],
   "source": [
    "def find_max_min(test_tup):\n",
    "\n",
    "  a, b, c, d, e = test_tup\n",
    "\n",
    "\n",
    "\n",
    "  # Find the maximum and minimum values.\n",
    "\n",
    "  max_val = max(a, b, c, d, e)\n",
    "\n",
    "  min_val = min(a, b, c, d, e)\n",
    "\n",
    "\n",
    "\n",
    "  # Return the maximum and minimum values.\n",
    "\n",
    "  return max_val, min_val\n",
    "\n",
    "\n",
    "\n",
    "\n",
    "\n",
    "# Test the function.\n",
    "\n",
    "test_tup = (5, 20, 3, 7, 6, 8)\n",
    "\n",
    "max_val, min_val = find_max_min(test_tup)\n",
    "\n",
    "\n",
    "\n",
    "print(\"The maximum value is:\", max_val)\n",
    "\n",
    "print(\"The minimum value is:\", min_val)\n"
   ]
  },
  {
   "cell_type": "code",
   "execution_count": 32,
   "id": "dbc6c8e1-ea09-477b-88fb-77b808c6f017",
   "metadata": {},
   "outputs": [],
   "source": [
    "#28. Creat a code that defines two sets of integers. The, print the union, intersection, and difference of these two sets"
   ]
  },
  {
   "cell_type": "code",
   "execution_count": 33,
   "id": "155f386a-020e-4f43-88b8-e11e4fd40a2d",
   "metadata": {},
   "outputs": [
    {
     "name": "stdout",
     "output_type": "stream",
     "text": [
      "Union : {0, 1, 2, 3, 4, 5, 6, 8}\n",
      "Intersection : {2, 4}\n",
      "Difference : {0, 8, 6}\n",
      "Symmetric difference : {0, 1, 3, 5, 6, 8}\n"
     ]
    }
   ],
   "source": [
    "A = {0, 2, 4, 6, 8};\n",
    "B = {1, 2, 3, 4, 5};\n",
    "\n",
    "print(\"Union :\", A | B)\n",
    "\n",
    "print(\"Intersection :\", A & B)\n",
    "\n",
    "print(\"Difference :\", A - B)\n",
    "\n",
    "print(\"Symmetric difference :\", A ^ B)\n"
   ]
  },
  {
   "cell_type": "code",
   "execution_count": 34,
   "id": "139f85f4-b6b8-4d70-8af5-5de384420a19",
   "metadata": {},
   "outputs": [],
   "source": [
    "# 29. Write a code that takes a tuple and an element as input. The function should return the count of occurrences of the given element in the tuple."
   ]
  },
  {
   "cell_type": "code",
   "execution_count": 35,
   "id": "94625ba5-3559-43b9-8d6b-0905942843c8",
   "metadata": {},
   "outputs": [
    {
     "name": "stdout",
     "output_type": "stream",
     "text": [
      "2\n"
     ]
    }
   ],
   "source": [
    "def count_occurrences(tuple, element):\n",
    "\n",
    "  count = 0\n",
    "  for item in tuple:\n",
    "    if item == element:\n",
    "      count += 1\n",
    "  return count\n",
    "\n",
    "tuple = (1, 2, 3, 4, 5, 1, 2, 3)\n",
    "element = 1\n",
    "\n",
    "count = count_occurrences(tuple, element)\n",
    "\n",
    "print(count)"
   ]
  },
  {
   "cell_type": "code",
   "execution_count": 36,
   "id": "425fdc9c-30b9-4e02-9dec-65dfe5e7240b",
   "metadata": {},
   "outputs": [],
   "source": [
    "# 30. Devlop a code thet prompts the users to input two sets of strings. Then, print the symmetric difference of thes two sets."
   ]
  },
  {
   "cell_type": "code",
   "execution_count": 37,
   "id": "9c19af0a-2806-40e3-9525-e79dc84b2ec8",
   "metadata": {},
   "outputs": [
    {
     "name": "stdout",
     "output_type": "stream",
     "text": [
      "{1, 2, 4, 5}\n"
     ]
    }
   ],
   "source": [
    "set1 = {1, 2, 3}\n",
    "set2 = {3, 4, 5}\n",
    "\n",
    "result = set1.symmetric_difference(set2)\n",
    "print(result)\n"
   ]
  },
  {
   "cell_type": "code",
   "execution_count": 38,
   "id": "408649ac-5b4d-49f7-8946-48de138391a0",
   "metadata": {},
   "outputs": [],
   "source": [
    "#31. Write a code that takes a list of word as input and return a dictionary whera the keys are unique words and the values are the frequencies of those words in input list."
   ]
  },
  {
   "cell_type": "code",
   "execution_count": 39,
   "id": "46a97c40-25df-4ca1-b6d3-026eb021b69b",
   "metadata": {},
   "outputs": [
    {
     "name": "stdout",
     "output_type": "stream",
     "text": [
      " 1 :  5\n",
      " 5 :  2\n",
      " 3 :  3\n",
      " 4 :  3\n",
      " 2 :  4\n"
     ]
    }
   ],
   "source": [
    "def CountFrequency(my_list):\n",
    "\n",
    "\tfreq = {}\n",
    "\tfor item in my_list:\n",
    "\t\tif (item in freq):\n",
    "\t\t\tfreq[item] += 1\n",
    "\t\telse:\n",
    "\t\t\tfreq[item] = 1\n",
    "\n",
    "\tfor key, value in freq.items():\n",
    "\t\tprint(\"% d : % d\" % (key, value))\n",
    "\n",
    "if __name__ == \"__main__\":\n",
    "\tmy_list = [1, 1, 1, 5, 5, 3, 1, 3, 3, 1, 4, 4, 4, 2, 2, 2, 2]\n",
    "\n",
    "\tCountFrequency(my_list)\n"
   ]
  },
  {
   "cell_type": "code",
   "execution_count": 40,
   "id": "5d76d311-2736-42a9-8cb3-bc2263fbe758",
   "metadata": {},
   "outputs": [],
   "source": [
    "# 32. Write a code that takes two dictionaries as input and merges them into a single dictionary. If there are common keys, the value should be added together."
   ]
  },
  {
   "cell_type": "code",
   "execution_count": 41,
   "id": "5e43e883-bd10-40d6-bdee-04ebaf58af06",
   "metadata": {},
   "outputs": [
    {
     "name": "stdout",
     "output_type": "stream",
     "text": [
      "{'a': 400, 'b': 400, 'c': 300, 'd': 400}\n"
     ]
    }
   ],
   "source": [
    "def merge_dictionaries(dict1, dict2):\n",
    "\n",
    "  merged_dict = {}\n",
    "  for key in dict1:\n",
    "    if key in dict2:\n",
    "      merged_dict[key] = dict1[key] + dict2[key]\n",
    "    else:\n",
    "      merged_dict[key] = dict1[key]\n",
    "  for key in dict2:\n",
    "    if key not in merged_dict:\n",
    "      merged_dict[key] = dict2[key]\n",
    "  return merged_dict\n",
    "\n",
    "\n",
    "dict1 = {'a': 100, 'b': 200, 'c': 300}\n",
    "dict2 = {'a': 300, 'b': 200, 'd': 400}\n",
    "\n",
    "merged_dict = merge_dictionaries(dict1, dict2)\n",
    "\n",
    "print(merged_dict)"
   ]
  },
  {
   "cell_type": "code",
   "execution_count": 42,
   "id": "0396c920-640f-48f0-8715-fd7bea017db0",
   "metadata": {},
   "outputs": [],
   "source": [
    "# 33. Write a code to access a value in a nested dictionary. The function should take the dictionary and list of keys and input, and return the corresponding\n",
    "#value. If any of the keys do not exit in the dictionary, the function should return None."
   ]
  },
  {
   "cell_type": "code",
   "execution_count": 43,
   "id": "3a6ad12e-de09-4ce0-9361-4346f6f89f2e",
   "metadata": {},
   "outputs": [
    {
     "name": "stdout",
     "output_type": "stream",
     "text": [
      "1\n"
     ]
    }
   ],
   "source": [
    "def get_value(dictionary, keys):\n",
    "\n",
    " for key in keys:\n",
    "    if key not in dictionary:\n",
    "      return None\n",
    "    dictionary = dictionary[key]\n",
    " return dictionary\n",
    "\n",
    "\n",
    "my_dict = {\n",
    " \"a\": {\n",
    "   \"b\": {\n",
    "     \"c\":1\n",
    "   }\n",
    " }\n",
    "}\n",
    "\n",
    "keys = [\"a\", \"b\", \"c\"]\n",
    "\n",
    "value = get_value(my_dict, keys)\n",
    "\n",
    "print(value)"
   ]
  },
  {
   "cell_type": "code",
   "execution_count": 44,
   "id": "c7b5b1c8-47f3-45ce-bb3c-fde53d36a34c",
   "metadata": {},
   "outputs": [],
   "source": [
    "# 34. Write a code that takes a dictionary as input and return a sorted version of it based on the values. You can choose whether to sort in ascending or discending order."
   ]
  },
  {
   "cell_type": "code",
   "execution_count": 45,
   "id": "0b206a51-fac8-4a37-9021-049d18916d51",
   "metadata": {},
   "outputs": [
    {
     "name": "stdout",
     "output_type": "stream",
     "text": [
      "{'a': 1, 'b': 2, 'c': 3}\n"
     ]
    }
   ],
   "source": [
    "def sort_dictionary(d, ascending=True):\n",
    "\n",
    "  sorted_items = sorted(d.items(), key=lambda item: item[1], reverse=not ascending)\n",
    "  return dict(sorted_items)\n",
    "\n",
    "d = {'a': 1, 'b': 2, 'c': 3}\n",
    "\n",
    "sorted_d = sort_dictionary(d)\n",
    "print(sorted_d)\n"
   ]
  },
  {
   "cell_type": "code",
   "execution_count": 46,
   "id": "d7969c57-64c0-4bf6-a035-02bdc8359ace",
   "metadata": {},
   "outputs": [],
   "source": [
    "# 35. Write a code that inverts a dictionary, swapping keys and values. Ensure that the inverted dictionary correctlu handles case where multiple keys have the same value by storing the keys as a list in the inverted dictionary."
   ]
  },
  {
   "cell_type": "code",
   "execution_count": 47,
   "id": "5ad2f91e-81e7-4d4c-ad32-1aabafc0baae",
   "metadata": {},
   "outputs": [
    {
     "name": "stdout",
     "output_type": "stream",
     "text": [
      "{1: ['a', 'c'], 2: ['b']}\n"
     ]
    }
   ],
   "source": [
    "def invert_dict(d):\n",
    "\n",
    "  inverted_dict = {}\n",
    "  for key, value in d.items():\n",
    "    if value not in inverted_dict:\n",
    "      inverted_dict[value] = [key]\n",
    "    else:\n",
    "      inverted_dict[value].append(key)\n",
    "  return inverted_dict\n",
    "\n",
    "d = {\"a\": 1, \"b\": 2, \"c\": 1}\n",
    "inverted_dict = invert_dict(d)\n",
    "print(inverted_dict)"
   ]
  },
  {
   "cell_type": "code",
   "execution_count": null,
   "id": "cc43f2b4-2578-4b80-999a-15f543867483",
   "metadata": {},
   "outputs": [],
   "source": []
  }
 ],
 "metadata": {
  "kernelspec": {
   "display_name": "Python 3 (ipykernel)",
   "language": "python",
   "name": "python3"
  },
  "language_info": {
   "codemirror_mode": {
    "name": "ipython",
    "version": 3
   },
   "file_extension": ".py",
   "mimetype": "text/x-python",
   "name": "python",
   "nbconvert_exporter": "python",
   "pygments_lexer": "ipython3",
   "version": "3.10.8"
  }
 },
 "nbformat": 4,
 "nbformat_minor": 5
}
